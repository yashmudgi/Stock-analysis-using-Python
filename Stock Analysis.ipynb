{
 "cells": [
  {
   "cell_type": "markdown",
   "metadata": {},
   "source": [
    " # Step 1 : Importing Dataset"
   ]
  },
  {
   "cell_type": "code",
   "execution_count": null,
   "metadata": {},
   "outputs": [],
   "source": [
    "import pandas as pd\n",
    "azr = pd.read_csv(\"AZRE.csv\")\n",
    "azr = pd.read_csv(\"AZRE.csv\"  , header =0, index_col=\"Date\", parse_dates=True)\n",
    "\n",
    "inx = pd.read_csv(\"INOXWIND.NS.csv\")\n",
    "inx = pd.read_csv(\"INOXWIND.NS.csv\" ,header = 0, index_col=\"Date\" ,parse_dates=True)\n",
    "\n",
    "tap = pd.read_csv(\"TATAPOWER.NS.csv\")\n",
    "tap = pd.read_csv(\"TATAPOWER.NS.csv\" ,header=0 ,index_col=\"Date\",parse_dates=True)\n",
    "\n",
    "tor = pd.read_csv(\"TORNTPOWER.NS.csv\")\n",
    "tor = pd.read_csv(\"TORNTPOWER.NS.csv\", header=0, index_col=\"Date\", parse_dates=True)\n"
   ]
  },
  {
   "cell_type": "code",
   "execution_count": null,
   "metadata": {},
   "outputs": [],
   "source": [
    "azr.head()"
   ]
  },
  {
   "cell_type": "code",
   "execution_count": null,
   "metadata": {},
   "outputs": [],
   "source": [
    "azr.tail(n=3)"
   ]
  },
  {
   "cell_type": "code",
   "execution_count": null,
   "metadata": {},
   "outputs": [],
   "source": [
    "azr.columns"
   ]
  },
  {
   "cell_type": "code",
   "execution_count": null,
   "metadata": {},
   "outputs": [],
   "source": [
    "azr.dropna(inplace = True)\n",
    "inx.dropna(inplace = True)\n",
    "tap.dropna(inplace = True)\n",
    "tor.dropna(inplace = True)"
   ]
  },
  {
   "cell_type": "markdown",
   "metadata": {},
   "source": [
    "# Time  Series Data"
   ]
  },
  {
   "cell_type": "code",
   "execution_count": null,
   "metadata": {},
   "outputs": [],
   "source": [
    "import matplotlib.pyplot as plt\n",
    "%matplotlib inline"
   ]
  },
  {
   "cell_type": "code",
   "execution_count": null,
   "metadata": {},
   "outputs": [],
   "source": [
    "import matplotlib.dates as mdates\n",
    "from matplotlib.ticker import FuncFormatter"
   ]
  },
  {
   "cell_type": "code",
   "execution_count": null,
   "metadata": {},
   "outputs": [],
   "source": [
    "plt.plot(tor.index, tor['Adj Close'])\n",
    "plt.gca().xaxis.set_major_formatter(mdates.DateFormatter(\"%Y\"))\n",
    "#plt.gca().xaxis.set_major_formatter(mdates.YearLocator())\n",
    "#plt.gca().xaxis.set_major_formatter(tick.FuncFormatter(y_fmt))\n",
    "plt.grid(True)\n",
    "#plt.xticks(rotation=90)\n",
    "plt.show()"
   ]
  },
  {
   "cell_type": "code",
   "execution_count": null,
   "metadata": {},
   "outputs": [],
   "source": [
    "# Dividing in Subplots\n",
    "f, ax = plt.subplots (2,2, figsize=(10,10) , sharex =True)\n",
    "f.gca().xaxis.set_major_formatter(mdates.DateFormatter(\"%Y\"))\n",
    "#f.gca().xaxis.set_major_formatter(mdates.YearLocator()) \n",
    "\n",
    "ax[0,0].plot(azr.index, azr[\"Adj Close\"], color=\"r\")\n",
    "ax[0,0].grid(True)\n",
    "#ax[0,0].ticks_param((rotation=90)\n",
    "ax[0,0].set_title(\"Azre\");\n",
    "\n",
    "ax[0,1].plot(inx.index, inx[\"Adj Close\"], color=\"g\")\n",
    "ax[0,1].grid(True)\n",
    "#ax[0,1].ticks_param(rotation=90)\n",
    "ax[0,1].set_title(\"INOX\");\n",
    "\n",
    "ax[1,0].plot(tap.index, tap[\"Adj Close\"], color=\"b\")\n",
    "ax[1,0].grid(True)\n",
    "#ax[1,0].ticks_param(rotation=90)\n",
    "ax[1,0].set_title(\"TATA\");\n",
    "\n",
    "ax[1,1].plot(tor.index, tor[\"Adj Close\"], color=\"y\")\n",
    "ax[1,1].grid(True)\n",
    "#ax[1,1].ticks_param(rotation=90)\n",
    "ax[1,1].set_title(\"TORNT\");"
   ]
  },
  {
   "cell_type": "markdown",
   "metadata": {},
   "source": [
    "# Breaking data "
   ]
  },
  {
   "cell_type": "markdown",
   "metadata": {},
   "source": [
    "#  Yearly"
   ]
  },
  {
   "cell_type": "code",
   "execution_count": null,
   "metadata": {},
   "outputs": [],
   "source": [
    "f, ax = plt.subplots (2,2, figsize=(18,10) , sharex =True , sharey = True)\n",
    "f.gca().xaxis.set_major_formatter(mdates.DateFormatter(\"%Y- %M\"))\n",
    "\n",
    "azr_19 = azr[pd.Timestamp('2019-01-01') : pd.Timestamp(\"2020-05-10\")]\n",
    "ax[0,0].plot(azr_19.index, azr_19[\"Adj Close\"], color=\"r\")\n",
    "ax[0,0].grid(True)\n",
    "#ax[0,0].ticks_param((rotation=90)\n",
    "ax[0,0].set_title(\"Azre\");\n",
    "\n",
    "inx_19 = inx[pd.Timestamp('2019-01-01') : pd.Timestamp(\"2020-05-10\")]\n",
    "ax[0,1].plot(inx_19.index, inx_19[\"Adj Close\"], color=\"g\")\n",
    "ax[0,1].grid(True)\n",
    "#ax[0,1].ticks_param(rotation=90)\n",
    "ax[0,1].set_title(\"INOX\");\n",
    "\n",
    "tap_19 = tap[pd.Timestamp('2019-01-01') : pd.Timestamp(\"2020-05-10\")]\n",
    "ax[1,0].plot(tap_19.index, tap_19[\"Adj Close\"], color=\"b\")\n",
    "ax[1,0].grid(True)\n",
    "#ax[1,0].ticks_param(rotation=90)\n",
    "ax[1,0].set_title(\"TATA\");\n",
    "\n",
    "tor_19 = tor[pd.Timestamp('2019-01-01') : pd.Timestamp(\"2020-05-10\")]\n",
    "ax[1,1].plot(tor_19.index, tor_19[\"Adj Close\"], color=\"y\")\n",
    "ax[1,1].grid(True)\n",
    "#ax[1,1].ticks_param(rotation=90)\n",
    "ax[1,1].set_title(\"TORNT\");"
   ]
  },
  {
   "cell_type": "markdown",
   "metadata": {},
   "source": [
    "#   Resampling Quaterly"
   ]
  },
  {
   "cell_type": "code",
   "execution_count": null,
   "metadata": {},
   "outputs": [],
   "source": [
    "f, ax = plt.subplots (2,2, figsize=(18,10) , sharex =True , sharey = True)\n",
    "\n",
    "quaterly_azr_19=azr_19.resample('4M').mean()\n",
    "ax[0,0].scatter(quaterly_azr_19.index, quaterly_azr_19[\"Adj Close\"], color=\"r\")\n",
    "ax[0,0].grid(True)\n",
    "#ax[0,0].ticks_param((rotation=90)\n",
    "ax[0,0].set_title(\"Azre\");\n",
    "\n",
    "quaterly_inx_19=inx_19.resample('4M').mean()\n",
    "ax[0,1].scatter(quaterly_inx_19.index, quaterly_inx_19[\"Adj Close\"], color=\"g\")\n",
    "ax[0,1].grid(True)\n",
    "#ax[0,1].ticks_param(rotation=90)\n",
    "ax[0,1].set_title(\"INOX\");\n",
    "\n",
    "quaterly_tap_19=tap_19.resample('4M').mean()\n",
    "ax[1,0].scatter(quaterly_tap_19.index, quaterly_tap_19[\"Adj Close\"], color=\"b\")\n",
    "ax[1,0].grid(True)\n",
    "#ax[1,0].ticks_param(rotation=90)\n",
    "ax[1,0].set_title(\"TATA\");\n",
    "\n",
    "quaterly_tor_19=tor_19.resample('4M').mean()\n",
    "ax[1,1].scatter(quaterly_tor_19.index, quaterly_tor_19[\"Adj Close\"], color=\"y\")\n",
    "ax[1,1].grid(True)\n",
    "#ax[1,1].ticks_param(rotation=90)\n",
    "ax[1,1].set_title(\"TORNT\");"
   ]
  },
  {
   "cell_type": "markdown",
   "metadata": {},
   "source": [
    "# Resampling Weekly "
   ]
  },
  {
   "cell_type": "code",
   "execution_count": null,
   "metadata": {},
   "outputs": [],
   "source": [
    "azr_19 = azr[pd.Timestamp('2019-01-01') : pd.Timestamp(\"2020-5-10\")]\n",
    "weekly_azr_19=azr_19.resample(\"W\").mean()\n",
    "\n",
    "inx_19 = inx[pd.Timestamp('2019-01-01') : pd.Timestamp(\"2020-5-10\")]\n",
    "weekly_inx_19=inx_19.resample(\"W\").mean()\n",
    "\n",
    "tap_19 = tap[pd.Timestamp('2019-01-01') : pd.Timestamp(\"2020-5-10\")]\n",
    "weekly_tap_19=tap_19.resample(\"W\").mean()\n",
    "\n",
    "tor_19 = tor[pd.Timestamp('2019-01-01') : pd.Timestamp(\"2020-5-10\")]\n",
    "weekly_tor_19=tor_19.resample(\"W\").mean()\n",
    "\n",
    "f, ax = plt.subplots (2,2, figsize=(18,10) , sharex =True , sharey = True)\n",
    "\n",
    "ax[0,0].plot(weekly_azr_19.index, weekly_azr_19[\"Adj Close\"],\"-o\",color=\"r\")\n",
    "ax[0,0].grid(True)\n",
    "#ax[0,0].ticks_param((rotation=90)\n",
    "ax[0,0].set_title(\"Azre\");\n",
    "\n",
    "\n",
    "ax[0,1].plot(weekly_inx_19.index, weekly_inx_19[\"Adj Close\"],\"-o\", color=\"g\")\n",
    "ax[0,1].grid(True)\n",
    "#ax[0,1].ticks_param(rotation=90)\n",
    "ax[0,1].set_title(\"INOX\");\n",
    "\n",
    "ax[1,0].plot(weekly_tap_19.index, weekly_tap_19[\"Adj Close\"],\"-o\", color=\"b\")\n",
    "ax[1,0].grid(True)\n",
    "#ax[1,0].ticks_param(rotation=90)\n",
    "ax[1,0].set_title(\"TATA\");\n",
    "\n",
    "ax[1,1].plot(weekly_tor_19.index, weekly_tor_19[\"Adj Close\"],\"-o\", color=\"y\")\n",
    "ax[1,1].grid(True)\n",
    "#ax[1,1].ticks_param(rotation=90)\n",
    "ax[1,1].set_title(\"TORNT\");"
   ]
  },
  {
   "cell_type": "markdown",
   "metadata": {},
   "source": [
    "# Resampling differences (weekly)"
   ]
  },
  {
   "cell_type": "code",
   "execution_count": null,
   "metadata": {},
   "outputs": [],
   "source": [
    "azr[\"diff\"]=azr[\"Open\"]-azr[\"Close\"]\n",
    "azr_diff=azr.resample(\"W\").mean()\n",
    "\n",
    "inx[\"diff\"]=inx[\"Open\"]-inx[\"Close\"]\n",
    "inx_diff=inx.resample(\"W\").mean()\n",
    "\n",
    "tap[\"diff\"]=tap[\"Open\"]-tap[\"Close\"]\n",
    "tap_diff=tap.resample(\"W\").mean()\n",
    "\n",
    "tor[\"diff\"]=tor[\"Open\"]-tor[\"Close\"]\n",
    "tor_diff=tor.resample(\"W\").mean()\n",
    "\n",
    "f, ax = plt.subplots (2,2, figsize=(18,10) , sharex =True , sharey = True)\n",
    "\n",
    "ax[0,0].plot(azr_diff.loc['2019-01-01':'2020-05-10'].index,azr_diff.loc['2019-01-01':'2020-05-10']['diff'] ,\"-o\", color=\"r\")\n",
    "ax[0,0].grid(True)\n",
    "#ax[0,0].ticks_param((rotation=90)\n",
    "ax[0,0].set_title(\"Azre\");\n",
    "\n",
    "ax[0,1].plot(inx_diff.loc['2019-01-01':\"2020-05-10\"].index,inx_diff.loc['2019-01-01':'2020-05-10']['diff'],\"-o\", color=\"g\")\n",
    "ax[0,1].grid(True)\n",
    "#ax[0,1].ticks_param(rotation=90)\n",
    "ax[0,1].set_title(\"INOX\");\n",
    "\n",
    "ax[1,0].plot(tap_diff.loc['2019-01-01':\"2020-05-10\"].index,tap_diff.loc['2019-01-01':'2020-05-10']['diff'],\"-o\", color=\"b\")\n",
    "ax[1,0].grid(True)\n",
    "#ax[1,0].ticks_param(rotation=90)\n",
    "ax[1,0].set_title(\"TATA\");\n",
    "\n",
    "ax[1,1].plot(tor_diff.loc['2019-01-01':\"2020-05-10\"].index,tor_diff.loc['2019-01-01':'2020-05-10']['diff'],\"-o\", color=\"y\")\n",
    "ax[1,1].grid(True)\n",
    "#ax[1,1].ticks_param(rotation=90)\n",
    "ax[1,1].set_title(\"TORNT\");"
   ]
  },
  {
   "cell_type": "markdown",
   "metadata": {},
   "source": [
    "#  Moving Window  Daily Percentage"
   ]
  },
  {
   "cell_type": "code",
   "execution_count": null,
   "metadata": {
    "scrolled": true
   },
   "outputs": [],
   "source": [
    "daily_close_azr= azr[[\"Adj Close\"]]\n",
    "daily_pct_close_azr=daily_close_azr.pct_change()\n",
    "\n",
    "daily_pct_close_azr.dropna(inplace=True)\n",
    "\n",
    "\n",
    "daily_close_inx= inx[[\"Adj Close\"]]\n",
    "daily_pct_close_inx=daily_close_inx.pct_change()\n",
    "\n",
    "daily_pct_close_inx.dropna(inplace=True)\n",
    "\n",
    "\n",
    "daily_close_tap= tap[[\"Adj Close\"]]\n",
    "daily_pct_close_tap=daily_close_tap.pct_change()\n",
    "\n",
    "daily_pct_close_tap.dropna(inplace=True)\n",
    "\n",
    "\n",
    "daily_close_tor= tor[[\"Adj Close\"]]\n",
    "daily_pct_close_tor=daily_close_tor.pct_change()\n",
    "\n",
    "daily_pct_close_tor.dropna(inplace=True)\n"
   ]
  },
  {
   "cell_type": "code",
   "execution_count": null,
   "metadata": {},
   "outputs": [],
   "source": [
    "import seaborn as sns\n",
    "sns.set()"
   ]
  },
  {
   "cell_type": "code",
   "execution_count": null,
   "metadata": {},
   "outputs": [],
   "source": [
    "import seaborn as sns\n",
    "f, axes = plt.subplots(2,2, figsize=(18,15))\n",
    "                      \n",
    "sns.distplot(daily_pct_close_azr[\"Adj Close\"], color=\"b\", ax=axes[0,0], axlabel=\"Azure\");\n",
    "sns.distplot(daily_pct_close_inx[\"Adj Close\"], color=\"r\", ax=axes[0,1], axlabel=\"Inox\");\n",
    "sns.distplot(daily_pct_close_tap[\"Adj Close\"], color=\"g\", ax=axes[1,0], axlabel=\"Tata\");\n",
    "sns.distplot(daily_pct_close_tor[\"Adj Close\"], color=\"m\", ax=axes[1,1], axlabel=\"Tornt\");"
   ]
  },
  {
   "cell_type": "markdown",
   "metadata": {},
   "source": [
    "#  Volatility"
   ]
  },
  {
   "cell_type": "code",
   "execution_count": null,
   "metadata": {},
   "outputs": [],
   "source": [
    "import numpy as np "
   ]
  },
  {
   "cell_type": "code",
   "execution_count": null,
   "metadata": {},
   "outputs": [],
   "source": [
    "azr_adj_close_px = azr['Adj Close']\n",
    "# Short moving window rolling mean\n",
    "azr['42'] = azr_adj_close_px.rolling(window=40).mean()\n",
    "\n",
    "# Long moving window rolling mean\n",
    "azr['252'] = azr_adj_close_px.rolling(window=252).mean()\n",
    "\n",
    "# Plot the adjusted closing price, the short and long windows of rolling means\n",
    "azr[['Adj Close', '42', '252']].plot(title=\"Azure\");\n",
    "\n",
    "\n",
    "inx_adj_close_px = inx['Adj Close']\n",
    "# Short moving window rolling mean\n",
    "inx['42'] = inx_adj_close_px.rolling(window=40).mean()\n",
    "\n",
    "# Long moving window rolling mean\n",
    "inx['252'] = inx_adj_close_px.rolling(window=252).mean()\n",
    "\n",
    "# Plot the adjusted closing price, the short and long windows of rolling means\n",
    "inx[['Adj Close', '42', '252']].plot(title=\"INOX\");\n",
    "\n",
    "\n",
    "tap_adj_close_px = tap['Adj Close']\n",
    "# Short moving window rolling mean\n",
    "tap['42'] = tap_adj_close_px.rolling(window=40).mean()\n",
    "\n",
    "# Long moving window rolling mean\n",
    "tap['252'] = tap_adj_close_px.rolling(window=252).mean()\n",
    "\n",
    "# Plot the adjusted closing price, the short and long windows of rolling means\n",
    "tap[['Adj Close', '42', '252']].plot(title=\"TATA\");\n",
    "\n",
    "\n",
    "tor_adj_close_px = tor['Adj Close']\n",
    "# Short moving window rolling mean\n",
    "tor['42'] = tor_adj_close_px.rolling(window=40).mean()\n",
    "\n",
    "# Long moving window rolling mean\n",
    "tor['252'] = tor_adj_close_px.rolling(window=252).mean()\n",
    "\n",
    "# Plot the adjusted closing price, the short and long windows of rolling means\n",
    "tor[['Adj Close', '42', '252']].plot(title=\"TORNT\");\n",
    "\n"
   ]
  },
  {
   "cell_type": "markdown",
   "metadata": {},
   "source": [
    "# Volatility in Year"
   ]
  },
  {
   "cell_type": "code",
   "execution_count": null,
   "metadata": {},
   "outputs": [],
   "source": [
    "azr.loc['2019-01-01':'2020-05-10'][['Adj Close', '42', '252']].plot(title=\"AZURE in 2019-20\");\n",
    "inx.loc['2019-01-01':'2020-05-10'][['Adj Close', '42', '252']].plot(title=\"INOX in 2019-20\");\n",
    "tap.loc['2019-01-01':'2020-05-10'][['Adj Close', '42', '252']].plot(title=\"TATA in 2019-20\");\n",
    "tor.loc['2019-01-01':'2020-05-10'][['Adj Close', '42', '252']].plot(title=\"TORNT in 2019-20\");\n",
    "\n"
   ]
  }
 ],
 "metadata": {
  "kernelspec": {
   "display_name": "Python 3",
   "language": "python",
   "name": "python3"
  },
  "language_info": {
   "codemirror_mode": {
    "name": "ipython",
    "version": 3
   },
   "file_extension": ".py",
   "mimetype": "text/x-python",
   "name": "python",
   "nbconvert_exporter": "python",
   "pygments_lexer": "ipython3",
   "version": "3.7.6"
  }
 },
 "nbformat": 4,
 "nbformat_minor": 4
}
